{
 "cells": [
  {
   "cell_type": "code",
   "execution_count": null,
   "id": "9c11014d-3777-457a-bb06-a33431272419",
   "metadata": {},
   "outputs": [],
   "source": [
    "from UserInteractionBot import UserInteractionBot\n",
    "from UserInteractionBot import UserInteractionBot\n",
    "bot =UserIntelractionBot()\n",
    "\n"
   ]
  }
 ],
 "metadata": {
  "kernelspec": {
   "display_name": "Python 3 (ipykernel)",
   "language": "python",
   "name": "python3"
  },
  "language_info": {
   "codemirror_mode": {
    "name": "ipython",
    "version": 3
   },
   "file_extension": ".py",
   "mimetype": "text/x-python",
   "name": "python",
   "nbconvert_exporter": "python",
   "pygments_lexer": "ipython3",
   "version": "3.9.19"
  }
 },
 "nbformat": 4,
 "nbformat_minor": 5
}
